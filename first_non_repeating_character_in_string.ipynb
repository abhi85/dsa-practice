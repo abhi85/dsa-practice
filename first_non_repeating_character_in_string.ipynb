{
  "nbformat": 4,
  "nbformat_minor": 0,
  "metadata": {
    "colab": {
      "name": "first_non_repeating_character_in_string.ipynb",
      "provenance": [],
      "collapsed_sections": [],
      "authorship_tag": "ABX9TyM2HpVjTJWEgbr5K3hhyPQM",
      "include_colab_link": true
    },
    "kernelspec": {
      "name": "python3",
      "display_name": "Python 3"
    },
    "language_info": {
      "name": "python"
    }
  },
  "cells": [
    {
      "cell_type": "markdown",
      "metadata": {
        "id": "view-in-github",
        "colab_type": "text"
      },
      "source": [
        "<a href=\"https://colab.research.google.com/github/abhi85/dsa-practice/blob/main/first_non_repeating_character_in_string.ipynb\" target=\"_parent\"><img src=\"https://colab.research.google.com/assets/colab-badge.svg\" alt=\"Open In Colab\"/></a>"
      ]
    },
    {
      "cell_type": "markdown",
      "metadata": {
        "id": "Ze9FyPJLAH5w"
      },
      "source": [
        "You're given a string of random alphanumerical characters with a length between 0 and 1000.\n",
        "\n",
        "Write a method to return the first character in the string that does not repeat itself later on."
      ]
    },
    {
      "cell_type": "code",
      "metadata": {
        "id": "zj-gz-kSASpn"
      },
      "source": [
        "def find_repeat(input_str):\n",
        "  dup_map = {}\n",
        "  # Time Complexity n \n",
        "  for ix, c in enumerate(list(input_str)):\n",
        "    dup_val = dup_map.get(c, None)\n",
        "    if dup_val is None:\n",
        "      dup_map[c] = {'first_position': ix, 'repeat' : False}\n",
        "    else:\n",
        "      dup_map[c]['repeat'] = True\n",
        "\n",
        "  min_char = None\n",
        "  min_pos = 9999\n",
        "  # Time Complexity of n \n",
        "  for key, val in dup_map.items():\n",
        "    if val['repeat'] == False:\n",
        "      if min_pos !=-1 and min_pos > val['first_position']:\n",
        "        min_char = key\n",
        "        min_pos = val['first_position']\n",
        "\n",
        "  return min_char, min_pos\n",
        "  "
      ],
      "execution_count": 18,
      "outputs": []
    },
    {
      "cell_type": "code",
      "metadata": {
        "colab": {
          "base_uri": "https://localhost:8080/"
        },
        "id": "75I-CYazAd5b",
        "outputId": "297be5c3-d362-4487-b0b2-a10955cf11fe"
      },
      "source": [
        "find_repeat('abcdabcdabcdeabcdfgabcdfg')"
      ],
      "execution_count": 19,
      "outputs": [
        {
          "output_type": "execute_result",
          "data": {
            "text/plain": [
              "('e', 12)"
            ]
          },
          "metadata": {},
          "execution_count": 19
        }
      ]
    },
    {
      "cell_type": "code",
      "metadata": {
        "id": "Ui6lf9fAGZPW"
      },
      "source": [
        ""
      ],
      "execution_count": null,
      "outputs": []
    }
  ]
}