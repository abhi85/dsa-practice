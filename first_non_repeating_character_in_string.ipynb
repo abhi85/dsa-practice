{
  "nbformat": 4,
  "nbformat_minor": 0,
  "metadata": {
    "colab": {
      "name": "Data structure and algos.ipynb",
      "provenance": [],
      "collapsed_sections": [],
      "authorship_tag": "ABX9TyOm8Tn/hRtyjINkcxQtiNsB",
      "include_colab_link": true
    },
    "kernelspec": {
      "name": "python3",
      "display_name": "Python 3"
    },
    "language_info": {
      "name": "python"
    }
  },
  "cells": [
    {
      "cell_type": "markdown",
      "metadata": {
        "id": "view-in-github",
        "colab_type": "text"
      },
      "source": [
        "<a href=\"https://colab.research.google.com/github/abhi85/dsa-practice/blob/main/first_non_repeating_character_in_string.ipynb\" target=\"_parent\"><img src=\"https://colab.research.google.com/assets/colab-badge.svg\" alt=\"Open In Colab\"/></a>"
      ]
    },
    {
      "cell_type": "markdown",
      "metadata": {
        "id": "Ze9FyPJLAH5w"
      },
      "source": [
        "You're given a string of random alphanumerical characters with a length between 0 and 1000.\n",
        "\n",
        "Write a method to return the first character in the string that does not repeat itself later on."
      ]
    },
    {
      "cell_type": "code",
      "metadata": {
        "id": "NMyrgzYfAlYk"
      },
      "source": [
        "from collections import defaultdict"
      ],
      "execution_count": 4,
      "outputs": []
    },
    {
      "cell_type": "code",
      "metadata": {
        "id": "GNdcavXx_-8L"
      },
      "source": [
        ""
      ],
      "execution_count": 5,
      "outputs": []
    },
    {
      "cell_type": "code",
      "metadata": {
        "id": "zj-gz-kSASpn"
      },
      "source": [
        "def find_repeat(input_str):\n",
        "\n",
        "  # Time Complexity n \n",
        "  for ix, c in enumerate(list(input_str)):\n",
        "    dup_val = dup_map.get(c, None)\n",
        "    if dup_val is None:\n",
        "      dup_map[c] = {'first_position': ix, 'repeat' : False}\n",
        "    else:\n",
        "      dup_map[c]['repeat'] = True\n",
        "\n",
        "  min_char = -1, min_pos = -1\n",
        "  # Time Complexity of n \n",
        "  for key, val in dup_map.items():\n",
        "    if val['repeat'] == False:\n",
        "      if min_pos > val['first_position']:\n",
        "        min_char = key\n",
        "        min_pos = val['first_position']\n",
        "\n",
        "  return min_char, min_pos\n",
        "  "
      ],
      "execution_count": 6,
      "outputs": []
    },
    {
      "cell_type": "code",
      "metadata": {
        "colab": {
          "base_uri": "https://localhost:8080/"
        },
        "id": "fYhBG3jUAbFo",
        "outputId": "a96111ee-ce45-4835-cd25-0eb8a38a0e70"
      },
      "source": [
        "for c in list('text'):\n",
        "  print(c)"
      ],
      "execution_count": 3,
      "outputs": [
        {
          "output_type": "stream",
          "name": "stdout",
          "text": [
            "t\n",
            "e\n",
            "x\n",
            "t\n"
          ]
        }
      ]
    },
    {
      "cell_type": "code",
      "metadata": {
        "id": "75I-CYazAd5b"
      },
      "source": [
        ""
      ],
      "execution_count": null,
      "outputs": []
    }
  ]
}